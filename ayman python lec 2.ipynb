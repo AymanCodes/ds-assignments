{
 "cells": [
  {
   "cell_type": "code",
   "execution_count": 1,
   "id": "eight-quarter",
   "metadata": {},
   "outputs": [],
   "source": [
    "a=\"it's a watch\"\n",
    "s=\"its a good watch\""
   ]
  },
  {
   "cell_type": "code",
   "execution_count": 2,
   "id": "starting-cradle",
   "metadata": {},
   "outputs": [
    {
     "data": {
      "text/plain": [
       "\"it's a watch\""
      ]
     },
     "execution_count": 2,
     "metadata": {},
     "output_type": "execute_result"
    }
   ],
   "source": [
    "a"
   ]
  },
  {
   "cell_type": "code",
   "execution_count": 3,
   "id": "moving-christian",
   "metadata": {},
   "outputs": [
    {
     "data": {
      "text/plain": [
       "'its a good watch'"
      ]
     },
     "execution_count": 3,
     "metadata": {},
     "output_type": "execute_result"
    }
   ],
   "source": [
    "s"
   ]
  },
  {
   "cell_type": "code",
   "execution_count": 4,
   "id": "federal-basin",
   "metadata": {},
   "outputs": [],
   "source": [
    "a=\"it's a watch\"\n",
    "s=\"its a good watch\""
   ]
  },
  {
   "cell_type": "code",
   "execution_count": 5,
   "id": "described-blogger",
   "metadata": {},
   "outputs": [
    {
     "name": "stdout",
     "output_type": "stream",
     "text": [
      "hello ali\n",
      "Bye!\n",
      "Bye!\n"
     ]
    }
   ],
   "source": [
    "name=[\"ali\",\"mahmoud\",\"samy\"]\n",
    "for n in name:\n",
    "    if n == \"ali\":\n",
    "        print(\"hello ali\")\n",
    "    else:\n",
    "        print(\"Bye!\")"
   ]
  },
  {
   "cell_type": "code",
   "execution_count": 6,
   "id": "reliable-portrait",
   "metadata": {},
   "outputs": [
    {
     "name": "stdout",
     "output_type": "stream",
     "text": [
      "5 no is odd\n",
      "7 no is odd\n",
      "8 no is even\n",
      "12 no is even\n",
      "15 no is odd\n",
      "20 no is even\n",
      "90 no is even\n",
      "103 no is odd\n",
      "101 no is odd\n"
     ]
    }
   ],
   "source": [
    "l=[5,7,8,12,15,20,90,103,101]\n",
    "for x in l:\n",
    "    if x % 2 ==0:\n",
    "        print(x,\"no is even\")\n",
    "    else:\n",
    "        print(x, \"no is odd\")"
   ]
  },
  {
   "cell_type": "code",
   "execution_count": 7,
   "id": "bacterial-insulation",
   "metadata": {},
   "outputs": [],
   "source": [
    "l=[10,20,30]\n",
    "l2=[]\n",
    "for i in l:\n",
    "    l2.append(i**2)"
   ]
  },
  {
   "cell_type": "code",
   "execution_count": 8,
   "id": "dominican-private",
   "metadata": {},
   "outputs": [
    {
     "data": {
      "text/plain": [
       "[100, 400, 900]"
      ]
     },
     "execution_count": 8,
     "metadata": {},
     "output_type": "execute_result"
    }
   ],
   "source": [
    "l2"
   ]
  },
  {
   "cell_type": "code",
   "execution_count": 9,
   "id": "pointed-expansion",
   "metadata": {},
   "outputs": [],
   "source": [
    "l2=[i**2 for i in l] #list comprehension"
   ]
  },
  {
   "cell_type": "code",
   "execution_count": 10,
   "id": "affected-observer",
   "metadata": {},
   "outputs": [
    {
     "data": {
      "text/plain": [
       "[100, 400, 900]"
      ]
     },
     "execution_count": 10,
     "metadata": {},
     "output_type": "execute_result"
    }
   ],
   "source": [
    "l2"
   ]
  },
  {
   "cell_type": "code",
   "execution_count": 11,
   "id": "authentic-indonesian",
   "metadata": {},
   "outputs": [
    {
     "name": "stdout",
     "output_type": "stream",
     "text": [
      "cuurent no is  1\n",
      "cuurent no is  2\n",
      "cuurent no is  3\n",
      "cuurent no is  4\n",
      "cuurent no is  5\n"
     ]
    }
   ],
   "source": [
    "n=1\n",
    "while n <= 5:\n",
    "    print(\"cuurent no is \",n)\n",
    "    n+=1 "
   ]
  },
  {
   "cell_type": "code",
   "execution_count": 13,
   "id": "global-third",
   "metadata": {},
   "outputs": [
    {
     "name": "stdout",
     "output_type": "stream",
     "text": [
      "please, enter your name: a\n"
     ]
    }
   ],
   "source": [
    "a=(input(\"please, enter your name: \"))"
   ]
  },
  {
   "cell_type": "code",
   "execution_count": 14,
   "id": "liberal-madagascar",
   "metadata": {},
   "outputs": [
    {
     "data": {
      "text/plain": [
       "'a'"
      ]
     },
     "execution_count": 14,
     "metadata": {},
     "output_type": "execute_result"
    }
   ],
   "source": [
    "a"
   ]
  },
  {
   "cell_type": "code",
   "execution_count": 23,
   "id": "stuffed-sarah",
   "metadata": {},
   "outputs": [
    {
     "name": "stdout",
     "output_type": "stream",
     "text": [
      "Enter a value, please: ali\n",
      "you've entered:  ali\n",
      "Enter a value, please: quit\n",
      "Goodbye!\n"
     ]
    }
   ],
   "source": [
    "while True:\n",
    "    a=input(\"Enter a value, please: \")\n",
    "    if a ==\"quit\":\n",
    "        print(\"Goodbye!\")\n",
    "        break\n",
    "    else:\n",
    "        print(\"you've entered: \",a)"
   ]
  },
  {
   "cell_type": "code",
   "execution_count": 21,
   "id": "documentary-skating",
   "metadata": {},
   "outputs": [
    {
     "name": "stdout",
     "output_type": "stream",
     "text": [
      "Enter first value: 566\n",
      "Enter second value: 151\n",
      "717.0\n",
      "Enter first value: q\n",
      "Enter second value: q\n",
      "Goodbye!\n"
     ]
    }
   ],
   "source": [
    "while True:\n",
    "    a=input(\"Enter first value: \")\n",
    "    b=input(\"Enter second value: \")\n",
    "    if a ==\"q\":\n",
    "        print(\"Goodbye!\")\n",
    "        break\n",
    "    else:\n",
    "        result=float(a)+float(b)\n",
    "        print(result)\n",
    "        "
   ]
  },
  {
   "cell_type": "code",
   "execution_count": 24,
   "id": "scenic-playing",
   "metadata": {},
   "outputs": [
    {
     "ename": "NameError",
     "evalue": "name 'ff' is not defined",
     "output_type": "error",
     "traceback": [
      "\u001b[1;31m---------------------------------------------------------------------------\u001b[0m",
      "\u001b[1;31mNameError\u001b[0m                                 Traceback (most recent call last)",
      "\u001b[1;32m<ipython-input-24-c4ef304dd4bb>\u001b[0m in \u001b[0;36m<module>\u001b[1;34m\u001b[0m\n\u001b[1;32m----> 1\u001b[1;33m \u001b[0mff\u001b[0m\u001b[1;33m/\u001b[0m\u001b[1;36m5\u001b[0m\u001b[1;33m\u001b[0m\u001b[1;33m\u001b[0m\u001b[0m\n\u001b[0m",
      "\u001b[1;31mNameError\u001b[0m: name 'ff' is not defined"
     ]
    }
   ],
   "source": [
    "ff/5"
   ]
  },
  {
   "cell_type": "code",
   "execution_count": 31,
   "id": "nasty-tobago",
   "metadata": {},
   "outputs": [
    {
     "name": "stdout",
     "output_type": "stream",
     "text": [
      "q\n",
      "there is a value error\n"
     ]
    }
   ],
   "source": [
    "try:\n",
    "    a=int(input())\n",
    "    b=int(input())\n",
    "    print(a/b)\n",
    "except ZeroDivisionError:\n",
    "    print(\"you can't divide number by 0\")\n",
    "except NameError:\n",
    "    print(\"there is an error\")\n",
    "except ValueError:\n",
    "    print(\"there is a value error\")"
   ]
  },
  {
   "cell_type": "code",
   "execution_count": 53,
   "id": "dense-converter",
   "metadata": {},
   "outputs": [
    {
     "name": "stdout",
     "output_type": "stream",
     "text": [
      "1\n",
      "a\n",
      "Done!\n"
     ]
    },
    {
     "ename": "NameError",
     "evalue": "name 'value_error' is not defined",
     "output_type": "error",
     "traceback": [
      "\u001b[1;31m---------------------------------------------------------------------------\u001b[0m",
      "\u001b[1;31mValueError\u001b[0m                                Traceback (most recent call last)",
      "\u001b[1;32m<ipython-input-53-8b6cd4087e7f>\u001b[0m in \u001b[0;36m<module>\u001b[1;34m\u001b[0m\n\u001b[0;32m      2\u001b[0m     \u001b[0ma\u001b[0m\u001b[1;33m=\u001b[0m\u001b[0mint\u001b[0m\u001b[1;33m(\u001b[0m\u001b[0minput\u001b[0m\u001b[1;33m(\u001b[0m\u001b[1;33m)\u001b[0m\u001b[1;33m)\u001b[0m\u001b[1;33m\u001b[0m\u001b[1;33m\u001b[0m\u001b[0m\n\u001b[1;32m----> 3\u001b[1;33m     \u001b[0mb\u001b[0m\u001b[1;33m=\u001b[0m\u001b[0mint\u001b[0m\u001b[1;33m(\u001b[0m\u001b[0minput\u001b[0m\u001b[1;33m(\u001b[0m\u001b[1;33m)\u001b[0m\u001b[1;33m)\u001b[0m\u001b[1;33m\u001b[0m\u001b[1;33m\u001b[0m\u001b[0m\n\u001b[0m\u001b[0;32m      4\u001b[0m     \u001b[0mprint\u001b[0m\u001b[1;33m(\u001b[0m\u001b[0ma\u001b[0m\u001b[1;33m+\u001b[0m\u001b[0mb\u001b[0m\u001b[1;33m)\u001b[0m\u001b[1;33m\u001b[0m\u001b[1;33m\u001b[0m\u001b[0m\n",
      "\u001b[1;31mValueError\u001b[0m: invalid literal for int() with base 10: 'a'",
      "\nDuring handling of the above exception, another exception occurred:\n",
      "\u001b[1;31mNameError\u001b[0m                                 Traceback (most recent call last)",
      "\u001b[1;32m<ipython-input-53-8b6cd4087e7f>\u001b[0m in \u001b[0;36m<module>\u001b[1;34m\u001b[0m\n\u001b[0;32m      3\u001b[0m     \u001b[0mb\u001b[0m\u001b[1;33m=\u001b[0m\u001b[0mint\u001b[0m\u001b[1;33m(\u001b[0m\u001b[0minput\u001b[0m\u001b[1;33m(\u001b[0m\u001b[1;33m)\u001b[0m\u001b[1;33m)\u001b[0m\u001b[1;33m\u001b[0m\u001b[1;33m\u001b[0m\u001b[0m\n\u001b[0;32m      4\u001b[0m     \u001b[0mprint\u001b[0m\u001b[1;33m(\u001b[0m\u001b[0ma\u001b[0m\u001b[1;33m+\u001b[0m\u001b[0mb\u001b[0m\u001b[1;33m)\u001b[0m\u001b[1;33m\u001b[0m\u001b[1;33m\u001b[0m\u001b[0m\n\u001b[1;32m----> 5\u001b[1;33m \u001b[1;32mexcept\u001b[0m \u001b[0mvalue_error\u001b[0m\u001b[1;33m:\u001b[0m\u001b[1;33m\u001b[0m\u001b[1;33m\u001b[0m\u001b[0m\n\u001b[0m\u001b[0;32m      6\u001b[0m     \u001b[0mprint\u001b[0m\u001b[1;33m(\u001b[0m\u001b[1;34m\"there is a value error\"\u001b[0m\u001b[1;33m)\u001b[0m\u001b[1;33m\u001b[0m\u001b[1;33m\u001b[0m\u001b[0m\n\u001b[0;32m      7\u001b[0m \u001b[1;32melse\u001b[0m\u001b[1;33m:\u001b[0m\u001b[1;33m\u001b[0m\u001b[1;33m\u001b[0m\u001b[0m\n",
      "\u001b[1;31mNameError\u001b[0m: name 'value_error' is not defined"
     ]
    }
   ],
   "source": [
    "try:\n",
    "    a=int(input())\n",
    "    b=int(input())\n",
    "    print(a+b)\n",
    "except value_error:\n",
    "    print(\"there is a value error\")\n",
    "else:\n",
    "    try:\n",
    "        a=int(input())\n",
    "        b=int(input())\n",
    "        print(a/b)\n",
    "    except ZeroDivisionError:\n",
    "        print(\"you can't divide value by 0\")\n",
    "finally:\n",
    "    print(\"Done!\")"
   ]
  },
  {
   "cell_type": "code",
   "execution_count": 64,
   "id": "closed-freight",
   "metadata": {},
   "outputs": [
    {
     "name": "stdout",
     "output_type": "stream",
     "text": [
      "[10, 11, 12, 13, 14, 15, 16, 17, 18, 19, 20, 21, 22, 23, 24, 25, 26, 27, 28, 29, 30, 31, 32, 33, 34, 35, 36, 37, 38, 39, 40, 41, 42, 43, 44, 45, 46, 47, 48, 49]\n"
     ]
    }
   ],
   "source": [
    "l=list(range(10,50,1))\n",
    "print(l)"
   ]
  },
  {
   "cell_type": "code",
   "execution_count": 66,
   "id": "changing-stephen",
   "metadata": {},
   "outputs": [
    {
     "name": "stdout",
     "output_type": "stream",
     "text": [
      "10\n",
      "11\n",
      "12\n",
      "13\n",
      "14\n",
      "15\n",
      "16\n",
      "17\n",
      "18\n",
      "19\n"
     ]
    }
   ],
   "source": [
    "for i in range(10):\n",
    "    print(l[i])"
   ]
  },
  {
   "cell_type": "code",
   "execution_count": 75,
   "id": "atomic-belgium",
   "metadata": {},
   "outputs": [],
   "source": [
    "data=open(\"E:/new_f.txt\",\"r\")"
   ]
  },
  {
   "cell_type": "code",
   "execution_count": 76,
   "id": "confidential-source",
   "metadata": {},
   "outputs": [],
   "source": [
    "dt=data.readlines()"
   ]
  },
  {
   "cell_type": "code",
   "execution_count": 77,
   "id": "colored-brunei",
   "metadata": {},
   "outputs": [
    {
     "data": {
      "text/plain": [
       "'hello this is my first line\\n'"
      ]
     },
     "execution_count": 77,
     "metadata": {},
     "output_type": "execute_result"
    }
   ],
   "source": [
    "dt[0]"
   ]
  },
  {
   "cell_type": "code",
   "execution_count": 78,
   "id": "conventional-ethics",
   "metadata": {},
   "outputs": [
    {
     "data": {
      "text/plain": [
       "'hello this is my second line\\n'"
      ]
     },
     "execution_count": 78,
     "metadata": {},
     "output_type": "execute_result"
    }
   ],
   "source": [
    "dt[1]"
   ]
  },
  {
   "cell_type": "code",
   "execution_count": 79,
   "id": "aboriginal-australia",
   "metadata": {},
   "outputs": [
    {
     "data": {
      "text/plain": [
       "'hello this is my third line'"
      ]
     },
     "execution_count": 79,
     "metadata": {},
     "output_type": "execute_result"
    }
   ],
   "source": [
    "dt[2]"
   ]
  },
  {
   "cell_type": "code",
   "execution_count": 80,
   "id": "honey-smoke",
   "metadata": {},
   "outputs": [
    {
     "data": {
      "text/plain": [
       "['hello this is my first line\\n',\n",
       " 'hello this is my second line\\n',\n",
       " 'hello this is my third line']"
      ]
     },
     "execution_count": 80,
     "metadata": {},
     "output_type": "execute_result"
    }
   ],
   "source": [
    "dt"
   ]
  },
  {
   "cell_type": "code",
   "execution_count": 81,
   "id": "false-frost",
   "metadata": {},
   "outputs": [],
   "source": [
    "data=open(\"E:/new_f.txt\",\"r\")"
   ]
  },
  {
   "cell_type": "code",
   "execution_count": 82,
   "id": "experienced-mumbai",
   "metadata": {},
   "outputs": [
    {
     "data": {
      "text/plain": [
       "'hello this is my first line\\n'"
      ]
     },
     "execution_count": 82,
     "metadata": {},
     "output_type": "execute_result"
    }
   ],
   "source": [
    "data.readline()"
   ]
  },
  {
   "cell_type": "code",
   "execution_count": 84,
   "id": "registered-opera",
   "metadata": {},
   "outputs": [
    {
     "data": {
      "text/plain": [
       "'hello this is my second line\\n'"
      ]
     },
     "execution_count": 84,
     "metadata": {},
     "output_type": "execute_result"
    }
   ],
   "source": [
    "data.readline()"
   ]
  },
  {
   "cell_type": "code",
   "execution_count": 85,
   "id": "unnecessary-heart",
   "metadata": {},
   "outputs": [
    {
     "data": {
      "text/plain": [
       "'hello this is my third line'"
      ]
     },
     "execution_count": 85,
     "metadata": {},
     "output_type": "execute_result"
    }
   ],
   "source": [
    "data.readline()"
   ]
  },
  {
   "cell_type": "code",
   "execution_count": 87,
   "id": "universal-potato",
   "metadata": {},
   "outputs": [
    {
     "data": {
      "text/plain": [
       "''"
      ]
     },
     "execution_count": 87,
     "metadata": {},
     "output_type": "execute_result"
    }
   ],
   "source": [
    "data.readline()"
   ]
  },
  {
   "cell_type": "code",
   "execution_count": 92,
   "id": "actual-watts",
   "metadata": {},
   "outputs": [],
   "source": [
    "f=open(\"E:/new_file.txt\",\"w\")\n",
    "f.write(\"Hello this is my first file to create!\")\n",
    "f.close() #we have to (close) the file to get write done."
   ]
  },
  {
   "cell_type": "code",
   "execution_count": 93,
   "id": "biblical-mayor",
   "metadata": {},
   "outputs": [
    {
     "name": "stdout",
     "output_type": "stream",
     "text": [
      "please check the file name\n"
     ]
    }
   ],
   "source": [
    "try:\n",
    "    f2=open(\"fileghghgh.txt\",\"r\")\n",
    "except FileNotFoundError:\n",
    "    print(\"please check the file name\")"
   ]
  },
  {
   "cell_type": "code",
   "execution_count": null,
   "id": "organized-theta",
   "metadata": {},
   "outputs": [],
   "source": []
  },
  {
   "cell_type": "code",
   "execution_count": null,
   "id": "every-bowling",
   "metadata": {},
   "outputs": [],
   "source": []
  },
  {
   "cell_type": "code",
   "execution_count": null,
   "id": "great-receiver",
   "metadata": {},
   "outputs": [],
   "source": []
  },
  {
   "cell_type": "code",
   "execution_count": null,
   "id": "enormous-sigma",
   "metadata": {},
   "outputs": [],
   "source": []
  },
  {
   "cell_type": "code",
   "execution_count": null,
   "id": "center-uzbekistan",
   "metadata": {},
   "outputs": [],
   "source": []
  },
  {
   "cell_type": "code",
   "execution_count": null,
   "id": "checked-rugby",
   "metadata": {},
   "outputs": [],
   "source": []
  }
 ],
 "metadata": {
  "kernelspec": {
   "display_name": "Python 3",
   "language": "python",
   "name": "python3"
  },
  "language_info": {
   "codemirror_mode": {
    "name": "ipython",
    "version": 3
   },
   "file_extension": ".py",
   "mimetype": "text/x-python",
   "name": "python",
   "nbconvert_exporter": "python",
   "pygments_lexer": "ipython3",
   "version": "3.9.1"
  }
 },
 "nbformat": 4,
 "nbformat_minor": 5
}
